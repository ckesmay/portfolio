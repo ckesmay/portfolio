{
 "cells": [
  {
   "cell_type": "code",
   "execution_count": 1,
   "id": "6dba442d",
   "metadata": {},
   "outputs": [],
   "source": [
    "import pandas as pd\n",
    "import matplotlib\n",
    "import matplotlib.pyplot as plt"
   ]
  },
  {
   "cell_type": "markdown",
   "id": "b7707ae3",
   "metadata": {},
   "source": [
    "My two data sources are the COVID-19 Vaccinations in the United States,County and the NWSS Public SARS-CoV-2 Wastewater Metric Data, both provided by the CDC for public use. I want to compare Vaccination Rates to COVID-19 rates across counties. To do this, I wanted an alternative to COVID-19 case rates provided by traditional PCR tests or rapid antigen tests. These two afformentioned ways of testing introduce numerous biases and errors stemming from the voluntary nature of the tests. SARS-CoV-2 Wastewater Metric Data, on the other hand, does not rely on citizens getting tested frequently. Instead, SARS-CoV-2 RNA levels are measured in the sewage and compared to past concentrations. This method allows scientists to more accurately identify surges in cases, especially when asymptomatic cases are on the rise. Finally, in terms of data validity and accuracy, I place my utmost trust in the methods a principal scientific institution. \n",
    "\n",
    "This next section parses the abundant data obtained by the CDC. Through a number of parsing methods, filters, indexes, and joins, I was able to create a dataframe that suited my needs."
   ]
  },
  {
   "cell_type": "markdown",
   "id": "0db73775",
   "metadata": {},
   "source": [
    "# Begin parsing of Wastewater data"
   ]
  },
  {
   "cell_type": "code",
   "execution_count": 2,
   "id": "d11524b4",
   "metadata": {},
   "outputs": [],
   "source": [
    "#Reading the wastewater data, creating a dataframe, and parsing the date columns from strings into dates.\n",
    "dfw = pd.read_csv('wastewater.csv',parse_dates = ['date_start','date_end'])"
   ]
  },
  {
   "cell_type": "markdown",
   "id": "4aa90b43",
   "metadata": {},
   "source": [
    "# Begin filtering of Wastewater data"
   ]
  },
  {
   "cell_type": "code",
   "execution_count": 3,
   "id": "9cc0b30a",
   "metadata": {},
   "outputs": [],
   "source": [
    "#filtering out the columns not of interest\n",
    "dfw = dfw[['county_names','county_fips','population_served','date_start','date_end','ptc_15d','detect_prop_15d','percentile']]"
   ]
  },
  {
   "cell_type": "code",
   "execution_count": 4,
   "id": "ebeb23d0",
   "metadata": {},
   "outputs": [],
   "source": [
    "#creating new dataframe for just Salt Lake County\n",
    "dfSL = dfw[(dfw['county_names']=='Salt Lake')]"
   ]
  },
  {
   "cell_type": "code",
   "execution_count": 5,
   "id": "13304777",
   "metadata": {},
   "outputs": [
    {
     "name": "stderr",
     "output_type": "stream",
     "text": [
      "/tmp/ipykernel_181205/4191050093.py:2: UserWarning: Boolean Series key will be reindexed to match DataFrame index.\n",
      "  dfSL2=dfSL[(dfw['population_served']==515494)]\n"
     ]
    }
   ],
   "source": [
    "#new dataframe for largest portion of Salt Lake County\n",
    "dfSL2=dfSL[(dfw['population_served']==515494)]"
   ]
  },
  {
   "cell_type": "code",
   "execution_count": 6,
   "id": "17d9d468",
   "metadata": {},
   "outputs": [],
   "source": [
    "#creating new dataframe for just Utah county\n",
    "dfUT = dfw[(dfw['county_names']=='Utah')]"
   ]
  },
  {
   "cell_type": "code",
   "execution_count": 7,
   "id": "16bb6e03",
   "metadata": {},
   "outputs": [
    {
     "name": "stderr",
     "output_type": "stream",
     "text": [
      "/tmp/ipykernel_181205/3370732465.py:2: UserWarning: Boolean Series key will be reindexed to match DataFrame index.\n",
      "  dfUT2=dfUT[(dfw['population_served']==102624)]\n"
     ]
    }
   ],
   "source": [
    "#new dataframe for largest portion of Utah county\n",
    "dfUT2=dfUT[(dfw['population_served']==102624)]"
   ]
  },
  {
   "cell_type": "code",
   "execution_count": 8,
   "id": "488cd350",
   "metadata": {},
   "outputs": [],
   "source": [
    "#new dataframe for just Washington county\n",
    "dfWashington = dfw[(dfw['county_names']=='Washington')]"
   ]
  },
  {
   "cell_type": "code",
   "execution_count": 9,
   "id": "3241f166",
   "metadata": {},
   "outputs": [
    {
     "name": "stderr",
     "output_type": "stream",
     "text": [
      "/tmp/ipykernel_181205/2807955598.py:2: UserWarning: Boolean Series key will be reindexed to match DataFrame index.\n",
      "  dfWashington2=dfWashington[(dfw['population_served']==92047)]\n"
     ]
    }
   ],
   "source": [
    "#new dataframe for largest portion of Washington county\n",
    "dfWashington2=dfWashington[(dfw['population_served']==92047)]"
   ]
  },
  {
   "cell_type": "code",
   "execution_count": 10,
   "id": "b3e34d25",
   "metadata": {},
   "outputs": [],
   "source": [
    "#new dataframe for just Cache county\n",
    "dfCache = dfw[(dfw['county_names']=='Cache')]"
   ]
  },
  {
   "cell_type": "code",
   "execution_count": 11,
   "id": "484cbdb6",
   "metadata": {},
   "outputs": [
    {
     "name": "stderr",
     "output_type": "stream",
     "text": [
      "/tmp/ipykernel_181205/2405389902.py:2: UserWarning: Boolean Series key will be reindexed to match DataFrame index.\n",
      "  dfCache2=dfCache[(dfw['population_served']==94005)]\n"
     ]
    }
   ],
   "source": [
    "#new dataframe for largest portion of Cache county\n",
    "dfCache2=dfCache[(dfw['population_served']==94005)]"
   ]
  },
  {
   "cell_type": "code",
   "execution_count": 12,
   "id": "a3d3cc48",
   "metadata": {},
   "outputs": [],
   "source": [
    "#more filtering of columns. I am using the suffix 'del' (short for delta) because the ptc_15d column measures the\n",
    "#percent change in SARS CoV-2 RNA levels over the 15-day interval specified.\n",
    "\n",
    "dfwSdel = dfSL2[['date_end','ptc_15d']]\n",
    "dfwUdel = dfUT2[['date_end','ptc_15d']]\n",
    "dfwWdel = dfWashington2[['date_end','ptc_15d']]\n",
    "dfwCdel = dfCache2[['date_end','ptc_15d']]"
   ]
  },
  {
   "cell_type": "code",
   "execution_count": 13,
   "id": "59796248",
   "metadata": {},
   "outputs": [],
   "source": [
    "#setting date_end as index\n",
    "dfwSdel_set = dfwSdel.set_index('date_end')\n",
    "dfwUdel_set = dfwUdel.set_index('date_end')\n",
    "dfwWdel_set = dfwWdel.set_index('date_end')\n",
    "dfwCdel_set = dfwCdel.set_index('date_end')"
   ]
  },
  {
   "cell_type": "markdown",
   "id": "c0a7f4ae",
   "metadata": {},
   "source": [
    "# Mean, Min, Max statistics regarding 15-day%change in Coronavirus RNA concentration in Salt Lake County."
   ]
  },
  {
   "cell_type": "code",
   "execution_count": 14,
   "id": "55a291c7",
   "metadata": {},
   "outputs": [
    {
     "data": {
      "text/plain": [
       "ptc_15d    101.542797\n",
       "dtype: float64"
      ]
     },
     "execution_count": 14,
     "metadata": {},
     "output_type": "execute_result"
    }
   ],
   "source": [
    "dfwSdel_set.mean()"
   ]
  },
  {
   "cell_type": "code",
   "execution_count": 75,
   "id": "83f4e3e5",
   "metadata": {},
   "outputs": [
    {
     "data": {
      "text/plain": [
       "ptc_15d    364.474508\n",
       "dtype: float64"
      ]
     },
     "execution_count": 75,
     "metadata": {},
     "output_type": "execute_result"
    }
   ],
   "source": [
    "dfwSdel_set.std()"
   ]
  },
  {
   "cell_type": "code",
   "execution_count": 15,
   "id": "ccdb6249",
   "metadata": {},
   "outputs": [
    {
     "data": {
      "text/plain": [
       "ptc_15d   -96.0\n",
       "dtype: float64"
      ]
     },
     "execution_count": 15,
     "metadata": {},
     "output_type": "execute_result"
    }
   ],
   "source": [
    "dfwSdel_set.min()"
   ]
  },
  {
   "cell_type": "code",
   "execution_count": 16,
   "id": "35839a7c",
   "metadata": {},
   "outputs": [
    {
     "data": {
      "text/plain": [
       "ptc_15d    2576.0\n",
       "dtype: float64"
      ]
     },
     "execution_count": 16,
     "metadata": {},
     "output_type": "execute_result"
    }
   ],
   "source": [
    "dfwSdel_set.max()"
   ]
  },
  {
   "cell_type": "markdown",
   "id": "d5b427a8",
   "metadata": {},
   "source": [
    "These statistics indicate an overall increase in SARS CoV-2 RNA concentration over time, with an amazing level of volatility as can be seen from the low minimum, high maximum, and large standard deviation. "
   ]
  },
  {
   "cell_type": "code",
   "execution_count": 17,
   "id": "d3bbfc8b",
   "metadata": {},
   "outputs": [],
   "source": [
    "#joining the dfs on date\n",
    "dfwSLUTdel = dfwSdel_set.join(dfwUdel_set,lsuffix='SaltLake',rsuffix='Utah')\n",
    "dfwWCdel = dfwWdel_set.join(dfwCdel_set,lsuffix='Washington',rsuffix='Cache')"
   ]
  },
  {
   "cell_type": "code",
   "execution_count": 18,
   "id": "ffb6df30",
   "metadata": {},
   "outputs": [],
   "source": [
    "#join of all dfs\n",
    "dfwdelJoin = dfwSLUTdel.join(dfwWCdel)"
   ]
  },
  {
   "cell_type": "code",
   "execution_count": 19,
   "id": "65422ff8",
   "metadata": {},
   "outputs": [],
   "source": [
    "dfwdelJoin=dfwdelJoin.sort_values(by='date_end')"
   ]
  },
  {
   "cell_type": "code",
   "execution_count": 65,
   "id": "3401e206",
   "metadata": {},
   "outputs": [
    {
     "data": {
      "text/plain": [
       "<matplotlib.legend.Legend at 0x7f3928a5bfa0>"
      ]
     },
     "execution_count": 65,
     "metadata": {},
     "output_type": "execute_result"
    },
    {
     "data": {
      "image/png": "[encoded data removed]",
      "text/plain": [
       "<Figure size 432x288 with 1 Axes>"
      ]
     },
     "metadata": {
      "needs_background": "light"
     },
     "output_type": "display_data"
    }
   ],
   "source": [
    "#plot of delSL and delCache overlayed. Interesting to see COVID surges in SL tend to predate COVID surges in Cache.\n",
    "dfwdelJoin.plot(y=['ptc_15dCache','ptc_15dSaltLake'],xlabel='Date',ylabel='15-Day Percent Change',title='SARS CoV-2\\\n",
    " RNA Concentration Change Between Counties')\n",
    "plt.legend(['Cache','Salt Lake'])"
   ]
  },
  {
   "cell_type": "markdown",
   "id": "1b1a4b35",
   "metadata": {},
   "source": [
    "I found this graph interesting as it appears as if COVID-19 surges in Salt Lake County predate similar surges in Cache county. This would make sense considering the urban nature of SL county and the rural nature of Cache county. The amplitude of Cache's 15-Day Percent Change also startled me. This could make sense due to the much smaller sample size in Cache County (94005) vs Salt Lake County (515494)."
   ]
  },
  {
   "cell_type": "code",
   "execution_count": 22,
   "id": "51d870f3",
   "metadata": {},
   "outputs": [],
   "source": [
    "#more filtering. This time percentile column indicates whether levels of SARS-CoV-2 virus levels at a site are \n",
    "#currently higher or lower than past historical levels at the same site. 0% means levels are the lowest they have \n",
    "#been at the site; 100% means levels are the highest they have been at the site. \n",
    "dfwS = dfSL2[['date_end','percentile']]\n",
    "dfwU = dfUT2[['date_end','percentile']]\n",
    "dfwW = dfWashington2[['date_end','percentile']]\n",
    "dfwC = dfCache2[['date_end','percentile']]"
   ]
  },
  {
   "cell_type": "code",
   "execution_count": 23,
   "id": "e637bb73",
   "metadata": {},
   "outputs": [],
   "source": [
    "dfwS_set = dfwS.set_index('date_end')\n",
    "dfwU_set = dfwU.set_index('date_end')\n",
    "dfwW_set = dfwW.set_index('date_end')\n",
    "dfwC_set = dfwC.set_index('date_end')"
   ]
  },
  {
   "cell_type": "markdown",
   "id": "065aa5d0",
   "metadata": {},
   "source": [
    "# Means of Coronavirus Concentration Historic Percentile"
   ]
  },
  {
   "cell_type": "code",
   "execution_count": 24,
   "id": "d1c20c15",
   "metadata": {},
   "outputs": [
    {
     "data": {
      "text/plain": [
       "percentile    52.448034\n",
       "dtype: float64"
      ]
     },
     "execution_count": 24,
     "metadata": {},
     "output_type": "execute_result"
    }
   ],
   "source": [
    "dfwS_set.mean()"
   ]
  },
  {
   "cell_type": "code",
   "execution_count": 25,
   "id": "21eacea9",
   "metadata": {},
   "outputs": [
    {
     "data": {
      "text/plain": [
       "percentile    53.388966\n",
       "dtype: float64"
      ]
     },
     "execution_count": 25,
     "metadata": {},
     "output_type": "execute_result"
    }
   ],
   "source": [
    "dfwU_set.mean()"
   ]
  },
  {
   "cell_type": "code",
   "execution_count": 26,
   "id": "0d7aff84",
   "metadata": {},
   "outputs": [
    {
     "data": {
      "text/plain": [
       "percentile    51.025931\n",
       "dtype: float64"
      ]
     },
     "execution_count": 26,
     "metadata": {},
     "output_type": "execute_result"
    }
   ],
   "source": [
    "dfwW_set.mean()"
   ]
  },
  {
   "cell_type": "code",
   "execution_count": 27,
   "id": "99e27fe9",
   "metadata": {},
   "outputs": [
    {
     "data": {
      "text/plain": [
       "percentile    54.978056\n",
       "dtype: float64"
      ]
     },
     "execution_count": 27,
     "metadata": {},
     "output_type": "execute_result"
    }
   ],
   "source": [
    "dfwC_set.mean()"
   ]
  },
  {
   "cell_type": "markdown",
   "id": "6dd31083",
   "metadata": {},
   "source": [
    "These means indicate that the COVID-19 rates, on average, were higher during the beginning of 2022 when compared to 2021. This may contrast similar findings using voluntary testing due to obligate inclusion of asymptomatic cases in wastewater data."
   ]
  },
  {
   "cell_type": "code",
   "execution_count": 28,
   "id": "70493bbb",
   "metadata": {},
   "outputs": [],
   "source": [
    "dfwSLUT = dfwS_set.join(dfwU_set,lsuffix='SaltLake',rsuffix='Utah')\n",
    "dfwWC = dfwW_set.join(dfwC_set,lsuffix='Washington',rsuffix='Cache')"
   ]
  },
  {
   "cell_type": "code",
   "execution_count": 29,
   "id": "5abb2715",
   "metadata": {},
   "outputs": [],
   "source": [
    "dfwJoin = dfwSLUT.join(dfwWC)"
   ]
  },
  {
   "cell_type": "code",
   "execution_count": 30,
   "id": "9c7e4359",
   "metadata": {},
   "outputs": [],
   "source": [
    "dfwJoin = dfwJoin.sort_values(by=['date_end'])"
   ]
  },
  {
   "cell_type": "code",
   "execution_count": 31,
   "id": "a44c81bd",
   "metadata": {},
   "outputs": [],
   "source": [
    "dfwJoin=dfwJoin.rename(columns={'percentileSaltLake':'SaltLakePercentile','percentileUtah':'UtahPercentile',\\\n",
    "                               'percentileWashington':'WashingtonPercentile','percentileCache':'CachePercentile'})"
   ]
  },
  {
   "cell_type": "code",
   "execution_count": 32,
   "id": "f2562dcf",
   "metadata": {},
   "outputs": [],
   "source": [
    "#Percentile calculation began in December of 2021 so I had to drop all the dates prior.\n",
    "dfwJoin=dfwJoin.dropna(axis = 0,how='any')"
   ]
  },
  {
   "cell_type": "code",
   "execution_count": 33,
   "id": "dfd016ff",
   "metadata": {},
   "outputs": [
    {
     "data": {
      "text/plain": [
       "<AxesSubplot:title={'center':'SARS CoV-2 RNA Wastewater Concentrations by County'}, xlabel='Date', ylabel='Percentile'>"
      ]
     },
     "execution_count": 33,
     "metadata": {},
     "output_type": "execute_result"
    },
    {
     "data": {
      "image/png": "[encoded data removed]",
      "text/plain": [
       "<Figure size 432x288 with 1 Axes>"
      ]
     },
     "metadata": {
      "needs_background": "light"
     },
     "output_type": "display_data"
    }
   ],
   "source": [
    "dfwJoin.plot(legend=True, title='SARS CoV-2 RNA Wastewater Concentrations by County',xlabel='Date',ylabel='Percentile')"
   ]
  },
  {
   "cell_type": "markdown",
   "id": "8fc434c9",
   "metadata": {},
   "source": [
    "This graph shows the relative concentrations of SARS CoV-2 RNA in the wastewater of the respective counties. There is a clear peak during the omicron wave, followed by a decrease through March, followed by another increase. This final increase my signify the BA.2 variant. I found the close correlation of the counties to be quite remarkable."
   ]
  },
  {
   "cell_type": "markdown",
   "id": "1061b514",
   "metadata": {},
   "source": [
    "# Begin parsing of Vaccination Data"
   ]
  },
  {
   "cell_type": "code",
   "execution_count": 34,
   "id": "2d8e6a31",
   "metadata": {},
   "outputs": [],
   "source": [
    "#reading the vaccination data, creating a dataframe, parsing date column\n",
    "dfv = pd.read_csv('vaccination.csv', parse_dates= ['Date'])"
   ]
  },
  {
   "cell_type": "markdown",
   "id": "aeed2334",
   "metadata": {},
   "source": [
    "# Begin filtering of Vaccination Data"
   ]
  },
  {
   "cell_type": "code",
   "execution_count": 35,
   "id": "8a098d8e",
   "metadata": {},
   "outputs": [],
   "source": [
    "#filtering out columns not of interest\n",
    "dfv = dfv[['Date','FIPS','Recip_County', 'Administered_Dose1_Pop_Pct','Administered_Dose1_Recip_65PlusPop_Pct',\\\n",
    "            'Administered_Dose1_Recip_65PlusPop_Pct','Series_Complete_Pop_Pct']]"
   ]
  },
  {
   "cell_type": "code",
   "execution_count": 36,
   "id": "aa19a9b3",
   "metadata": {},
   "outputs": [],
   "source": [
    "dfv = dfv.rename(columns={'Series_Complete_Pop_Pct':'%Vaccinated'})"
   ]
  },
  {
   "cell_type": "markdown",
   "id": "7298029a",
   "metadata": {},
   "source": [
    "I decided to focus on the percentage of total population who received at least two doses. This statistic (to me) best represents vaccination rate across the board."
   ]
  },
  {
   "cell_type": "code",
   "execution_count": 37,
   "id": "5ae0b36d",
   "metadata": {},
   "outputs": [],
   "source": [
    "#filter for SL county\n",
    "df_SL_filter = dfv['FIPS']=='49035'"
   ]
  },
  {
   "cell_type": "code",
   "execution_count": 38,
   "id": "217909b7",
   "metadata": {},
   "outputs": [],
   "source": [
    "#dataframe for SL county\n",
    "dfvSL=dfv[df_SL_filter]"
   ]
  },
  {
   "cell_type": "code",
   "execution_count": 39,
   "id": "5bd34e4f",
   "metadata": {},
   "outputs": [],
   "source": [
    "df_Washington_filter = dfv['FIPS']=='49053'"
   ]
  },
  {
   "cell_type": "code",
   "execution_count": 40,
   "id": "aa07008d",
   "metadata": {},
   "outputs": [],
   "source": [
    "df_Utah_filter = dfv['FIPS']=='49049'"
   ]
  },
  {
   "cell_type": "code",
   "execution_count": 41,
   "id": "e023abe6",
   "metadata": {},
   "outputs": [],
   "source": [
    "df_Cache_filter = dfv['FIPS']=='49005'"
   ]
  },
  {
   "cell_type": "code",
   "execution_count": 42,
   "id": "8c9b5a44",
   "metadata": {},
   "outputs": [],
   "source": [
    "dfvWashington = dfv[df_Washington_filter]"
   ]
  },
  {
   "cell_type": "code",
   "execution_count": 43,
   "id": "80635440",
   "metadata": {},
   "outputs": [],
   "source": [
    "dfvUtah = dfv[df_Utah_filter]"
   ]
  },
  {
   "cell_type": "code",
   "execution_count": 44,
   "id": "007d3d17",
   "metadata": {},
   "outputs": [],
   "source": [
    "dfvCache = dfv[df_Cache_filter]"
   ]
  },
  {
   "cell_type": "code",
   "execution_count": 45,
   "id": "0f8cca51",
   "metadata": {},
   "outputs": [],
   "source": [
    "dfvS = dfvSL[['Date','%Vaccinated']]\n",
    "dfvU = dfvUtah[['Date','%Vaccinated']]\n",
    "dfvW = dfvWashington[['Date','%Vaccinated']]\n",
    "dfvC = dfvCache[['Date','%Vaccinated']]"
   ]
  },
  {
   "cell_type": "code",
   "execution_count": 46,
   "id": "52f85766",
   "metadata": {},
   "outputs": [],
   "source": [
    "dfvS_set = dfvS.set_index('Date')\n",
    "dfvU_set = dfvU.set_index('Date')\n",
    "dfvW_set = dfvW.set_index('Date')\n",
    "dfvC_set = dfvC.set_index('Date')"
   ]
  },
  {
   "cell_type": "code",
   "execution_count": 47,
   "id": "29462556",
   "metadata": {},
   "outputs": [],
   "source": [
    "dfvSLUT = dfvS_set.join(dfvU_set,lsuffix ='SaltLake',rsuffix='Utah')\n",
    "dfvWC = dfvW_set.join(dfvC_set,lsuffix='Washington',rsuffix='Cache')"
   ]
  },
  {
   "cell_type": "code",
   "execution_count": 48,
   "id": "8b76fc62",
   "metadata": {},
   "outputs": [],
   "source": [
    "dfvJoin = dfvSLUT.join(dfvWC)"
   ]
  },
  {
   "cell_type": "code",
   "execution_count": 49,
   "id": "4bad747d",
   "metadata": {},
   "outputs": [
    {
     "data": {
      "text/plain": [
       "<matplotlib.legend.Legend at 0x7f3928e719a0>"
      ]
     },
     "execution_count": 49,
     "metadata": {},
     "output_type": "execute_result"
    },
    {
     "data": {
      "image/png": "[encoded data removed]",
      "text/plain": [
       "<Figure size 432x288 with 1 Axes>"
      ]
     },
     "metadata": {
      "needs_background": "light"
     },
     "output_type": "display_data"
    }
   ],
   "source": [
    "dfvJoin.plot(legend=True,title='Vaccination Rate (2 Doses) by County', ylabel='Percent(%) Vaccinated')\n",
    "plt.legend(['Salt Lake','Utah','Washington','Cache'])"
   ]
  },
  {
   "cell_type": "markdown",
   "id": "56607934",
   "metadata": {},
   "source": [
    "# Correlations of Vaccination Rate Across Counties"
   ]
  },
  {
   "cell_type": "code",
   "execution_count": 50,
   "id": "1eba0138",
   "metadata": {},
   "outputs": [
    {
     "data": {
      "text/plain": [
       "0.9939247016862496"
      ]
     },
     "execution_count": 50,
     "metadata": {},
     "output_type": "execute_result"
    }
   ],
   "source": [
    "dfvJoin['%VaccinatedSaltLake'].corr(dfvJoin['%VaccinatedUtah'])"
   ]
  },
  {
   "cell_type": "code",
   "execution_count": 51,
   "id": "34adf2f9",
   "metadata": {},
   "outputs": [
    {
     "data": {
      "text/plain": [
       "0.9974361165885598"
      ]
     },
     "execution_count": 51,
     "metadata": {},
     "output_type": "execute_result"
    }
   ],
   "source": [
    "dfvJoin['%VaccinatedSaltLake'].corr(dfvJoin['%VaccinatedWashington'])"
   ]
  },
  {
   "cell_type": "code",
   "execution_count": 52,
   "id": "47a637e3",
   "metadata": {},
   "outputs": [
    {
     "data": {
      "text/plain": [
       "0.9932894120322295"
      ]
     },
     "execution_count": 52,
     "metadata": {},
     "output_type": "execute_result"
    }
   ],
   "source": [
    "dfvJoin['%VaccinatedSaltLake'].corr(dfvJoin['%VaccinatedCache'])"
   ]
  },
  {
   "cell_type": "markdown",
   "id": "4300da9a",
   "metadata": {},
   "source": [
    "This graph and the respective correlations indicate a very close relationship in vaccination rates across all the counties. This was somewhat surprising to me considering the political and demographic differences between the counties."
   ]
  },
  {
   "cell_type": "code",
   "execution_count": 53,
   "id": "93a53d20",
   "metadata": {},
   "outputs": [],
   "source": [
    "dfvJoinDERIV = dfvJoin.diff(periods=-1,axis=0)"
   ]
  },
  {
   "cell_type": "code",
   "execution_count": 54,
   "id": "2fc1d037",
   "metadata": {},
   "outputs": [],
   "source": [
    "dfvwJoinDERIV = dfvJoinDERIV.join(dfwdelJoin)"
   ]
  },
  {
   "cell_type": "code",
   "execution_count": 55,
   "id": "6eafece3",
   "metadata": {},
   "outputs": [],
   "source": [
    "dfvwJoin_del = dfvJoin.join(dfwdelJoin)"
   ]
  },
  {
   "cell_type": "code",
   "execution_count": 58,
   "id": "5857d50d",
   "metadata": {},
   "outputs": [],
   "source": [
    "dfvwJoin = dfwJoin.join(dfvJoin)"
   ]
  },
  {
   "cell_type": "code",
   "execution_count": 59,
   "id": "6a96e58b",
   "metadata": {},
   "outputs": [
    {
     "data": {
      "text/plain": [
       "<Figure size 432x288 with 0 Axes>"
      ]
     },
     "execution_count": 59,
     "metadata": {},
     "output_type": "execute_result"
    },
    {
     "data": {
      "text/plain": [
       "<Figure size 432x288 with 0 Axes>"
      ]
     },
     "metadata": {},
     "output_type": "display_data"
    }
   ],
   "source": [
    "plt.figure()"
   ]
  },
  {
   "cell_type": "code",
   "execution_count": 74,
   "id": "f49e7030",
   "metadata": {},
   "outputs": [
    {
     "data": {
      "text/plain": [
       "<AxesSubplot:>"
      ]
     },
     "execution_count": 74,
     "metadata": {},
     "output_type": "execute_result"
    },
    {
     "data": {
      "image/png": "[encoded data removed]",
      "text/plain": [
       "<Figure size 432x288 with 2 Axes>"
      ]
     },
     "metadata": {
      "needs_background": "light"
     },
     "output_type": "display_data"
    }
   ],
   "source": [
    "dfvwJoin['%VaccinatedSaltLake'].plot(legend=True)\n",
    "dfvwJoin.SaltLakePercentile.plot(secondary_y=True,style='g',ylabel='% Vaccinated (2 doses)',\n",
    "                                 xlabel='Date',title='%Vaccinated vs. SARS CoV-2 RNA Conc\\\n",
    "entration in Salt Lake County',mark_right=True,legend=True)"
   ]
  },
  {
   "cell_type": "markdown",
   "id": "74bb2546",
   "metadata": {},
   "source": [
    "# Correlation between Vaccination Rate and Wastewater Concentration"
   ]
  },
  {
   "cell_type": "code",
   "execution_count": 61,
   "id": "3d3a2755",
   "metadata": {},
   "outputs": [
    {
     "data": {
      "text/plain": [
       "-0.7710875970245028"
      ]
     },
     "execution_count": 61,
     "metadata": {},
     "output_type": "execute_result"
    }
   ],
   "source": [
    "dfvwJoin['%VaccinatedSaltLake'].corr(dfvwJoin['SaltLakePercentile'])"
   ]
  },
  {
   "cell_type": "markdown",
   "id": "10ccf5a6",
   "metadata": {},
   "source": [
    "This graph and corresponding correlation coefficient indicate a strong inverse (negative) relationship between vaccination rate and Coronavirus wastewater concentration. This should seem obvious considering vaccines are meant to prevent/decrease transmission; however, considering the alarming amount of breakthrough cases at the beginning of the year, this figure is enlightening. Even if case counts were resurging due to breakthrough cases, the replicative success of the virus could have still been decreasing due to the effectiveness of vaccines. This would ultimately contribute to the decrease in wastewater RNA concentrations."
   ]
  },
  {
   "cell_type": "code",
   "execution_count": null,
   "id": "9e0e0576",
   "metadata": {},
   "outputs": [],
   "source": []
  }
 ],
 "metadata": {
  "kernelspec": {
   "display_name": "Python 3 (ipykernel)",
   "language": "python",
   "name": "python3"
  },
  "language_info": {
   "codemirror_mode": {
    "name": "ipython",
    "version": 3
   },
   "file_extension": ".py",
   "mimetype": "text/x-python",
   "name": "python",
   "nbconvert_exporter": "python",
   "pygments_lexer": "ipython3",
   "version": "3.8.10"
  }
 },
 "nbformat": 4,
 "nbformat_minor": 5
}
